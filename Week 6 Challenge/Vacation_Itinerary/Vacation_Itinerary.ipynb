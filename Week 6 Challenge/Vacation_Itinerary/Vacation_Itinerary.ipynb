{
 "cells": [
  {
   "cell_type": "markdown",
   "metadata": {},
   "source": [
    "## Deliverable 3. Create a Travel Itinerary Map."
   ]
  },
  {
   "cell_type": "code",
   "execution_count": 1,
   "metadata": {},
   "outputs": [],
   "source": [
    "# Dependencies and Setup\n",
    "import pandas as pd\n",
    "import requests\n",
    "import gmaps\n",
    "\n",
    "# Import API key\n",
    "from config import g_key\n",
    "\n",
    "# Configure gmaps\n",
    "gmaps.configure(api_key=g_key)"
   ]
  },
  {
   "cell_type": "code",
   "execution_count": 2,
   "metadata": {},
   "outputs": [
    {
     "data": {
      "text/html": [
       "<div>\n",
       "<style scoped>\n",
       "    .dataframe tbody tr th:only-of-type {\n",
       "        vertical-align: middle;\n",
       "    }\n",
       "\n",
       "    .dataframe tbody tr th {\n",
       "        vertical-align: top;\n",
       "    }\n",
       "\n",
       "    .dataframe thead th {\n",
       "        text-align: right;\n",
       "    }\n",
       "</style>\n",
       "<table border=\"1\" class=\"dataframe\">\n",
       "  <thead>\n",
       "    <tr style=\"text-align: right;\">\n",
       "      <th></th>\n",
       "      <th>City_ID</th>\n",
       "      <th>City</th>\n",
       "      <th>Country</th>\n",
       "      <th>Max Temp</th>\n",
       "      <th>Current Weather</th>\n",
       "      <th>Lat</th>\n",
       "      <th>Lng</th>\n",
       "      <th>Hotel Name</th>\n",
       "    </tr>\n",
       "  </thead>\n",
       "  <tbody>\n",
       "    <tr>\n",
       "      <th>0</th>\n",
       "      <td>0</td>\n",
       "      <td>Port Blair</td>\n",
       "      <td>IN</td>\n",
       "      <td>75.20</td>\n",
       "      <td>mist</td>\n",
       "      <td>11.6667</td>\n",
       "      <td>92.7500</td>\n",
       "      <td>J Hotel</td>\n",
       "    </tr>\n",
       "    <tr>\n",
       "      <th>1</th>\n",
       "      <td>2</td>\n",
       "      <td>Pisco</td>\n",
       "      <td>PE</td>\n",
       "      <td>73.40</td>\n",
       "      <td>clear sky</td>\n",
       "      <td>-13.7000</td>\n",
       "      <td>-76.2167</td>\n",
       "      <td>Hostal Tambo Colorado</td>\n",
       "    </tr>\n",
       "    <tr>\n",
       "      <th>2</th>\n",
       "      <td>5</td>\n",
       "      <td>Sechura</td>\n",
       "      <td>PE</td>\n",
       "      <td>78.94</td>\n",
       "      <td>clear sky</td>\n",
       "      <td>-5.5569</td>\n",
       "      <td>-80.8222</td>\n",
       "      <td>Hotel Amanecer - Sechura</td>\n",
       "    </tr>\n",
       "    <tr>\n",
       "      <th>3</th>\n",
       "      <td>17</td>\n",
       "      <td>Saint-Philippe</td>\n",
       "      <td>RE</td>\n",
       "      <td>80.60</td>\n",
       "      <td>light rain</td>\n",
       "      <td>-21.3585</td>\n",
       "      <td>55.7679</td>\n",
       "      <td>Pinpin d'Amour</td>\n",
       "    </tr>\n",
       "    <tr>\n",
       "      <th>4</th>\n",
       "      <td>19</td>\n",
       "      <td>Banjar</td>\n",
       "      <td>ID</td>\n",
       "      <td>84.20</td>\n",
       "      <td>few clouds</td>\n",
       "      <td>-8.1900</td>\n",
       "      <td>114.9675</td>\n",
       "      <td>The Raja Singha Boutique Resort Bali</td>\n",
       "    </tr>\n",
       "  </tbody>\n",
       "</table>\n",
       "</div>"
      ],
      "text/plain": [
       "   City_ID            City Country  Max Temp Current Weather      Lat  \\\n",
       "0        0      Port Blair      IN     75.20            mist  11.6667   \n",
       "1        2           Pisco      PE     73.40       clear sky -13.7000   \n",
       "2        5         Sechura      PE     78.94       clear sky  -5.5569   \n",
       "3       17  Saint-Philippe      RE     80.60      light rain -21.3585   \n",
       "4       19          Banjar      ID     84.20      few clouds  -8.1900   \n",
       "\n",
       "        Lng                            Hotel Name  \n",
       "0   92.7500                               J Hotel  \n",
       "1  -76.2167                 Hostal Tambo Colorado  \n",
       "2  -80.8222              Hotel Amanecer - Sechura  \n",
       "3   55.7679                        Pinpin d'Amour  \n",
       "4  114.9675  The Raja Singha Boutique Resort Bali  "
      ]
     },
     "execution_count": 2,
     "metadata": {},
     "output_type": "execute_result"
    }
   ],
   "source": [
    "# 1. Read the WeatherPy_vacation.csv into a DataFrame.\n",
    "vacation_df = pd.read_csv(\"../Vacation_Search/WeatherPy_vacation.csv\")\n",
    "vacation_df.head()"
   ]
  },
  {
   "cell_type": "code",
   "execution_count": 6,
   "metadata": {},
   "outputs": [],
   "source": [
    "# 2. Using the template add the city name, the country code, the weather description and maximum temperature for the city.\n",
    "info_box_template = \"\"\"\n",
    "<dl>\n",
    "<dt>Hotel Name</dt><dd>{Hotel Name}</dd>\n",
    "<dt>City</dt><dd>{City}</dd>\n",
    "<dt>Country</dt><dd>{Country}</dd>\n",
    "<dt>Current Weather</dt><dd>{Current Weather}</dd>\n",
    "<dt>Max Temp</dt><dd>{Max Temp} °F</dd>\n",
    "</dl>\n",
    "\"\"\"\n",
    "\n",
    "# 3a. Get the data from each row and add it to the formatting template and store the data in a list.\n",
    "hotel_info = [info_box_template.format(**row) for index, row in vacation_df.iterrows()]\n",
    "\n",
    "# 3b. Get the latitude and longitude from each row and store in a new DataFrame.\n",
    "locations = vacation_df[[\"Lat\", \"Lng\"]]"
   ]
  },
  {
   "cell_type": "code",
   "execution_count": 8,
   "metadata": {},
   "outputs": [
    {
     "data": {
      "application/vnd.jupyter.widget-view+json": {
       "model_id": "a4f5a7ef8a304c62a6a2cc7293dffbb5",
       "version_major": 2,
       "version_minor": 0
      },
      "text/plain": [
       "Figure(layout=FigureLayout(height='420px'))"
      ]
     },
     "metadata": {},
     "output_type": "display_data"
    }
   ],
   "source": [
    "# 4a. Add a marker layer for each city to the map.\n",
    "max_temp = vacation_df[\"Max Temp\"]\n",
    "fig = gmaps.figure(center=(30.0, 31.0), zoom_level=1.5)\n",
    "marker_layer = gmaps.marker_layer(locations, info_box_content=hotel_info)\n",
    "fig.add_layer(marker_layer)\n",
    "# 4b. Display the figure\n",
    "fig"
   ]
  },
  {
   "cell_type": "code",
   "execution_count": 72,
   "metadata": {},
   "outputs": [
    {
     "data": {
      "text/html": [
       "<div>\n",
       "<style scoped>\n",
       "    .dataframe tbody tr th:only-of-type {\n",
       "        vertical-align: middle;\n",
       "    }\n",
       "\n",
       "    .dataframe tbody tr th {\n",
       "        vertical-align: top;\n",
       "    }\n",
       "\n",
       "    .dataframe thead th {\n",
       "        text-align: right;\n",
       "    }\n",
       "</style>\n",
       "<table border=\"1\" class=\"dataframe\">\n",
       "  <thead>\n",
       "    <tr style=\"text-align: right;\">\n",
       "      <th></th>\n",
       "      <th>City_ID</th>\n",
       "      <th>City</th>\n",
       "      <th>Country</th>\n",
       "      <th>Max Temp</th>\n",
       "      <th>Current Weather</th>\n",
       "      <th>Lat</th>\n",
       "      <th>Lng</th>\n",
       "      <th>Hotel Name</th>\n",
       "    </tr>\n",
       "  </thead>\n",
       "  <tbody>\n",
       "    <tr>\n",
       "      <th>2</th>\n",
       "      <td>5</td>\n",
       "      <td>Sechura</td>\n",
       "      <td>PE</td>\n",
       "      <td>78.94</td>\n",
       "      <td>clear sky</td>\n",
       "      <td>-5.5569</td>\n",
       "      <td>-80.8222</td>\n",
       "      <td>Hotel Amanecer - Sechura</td>\n",
       "    </tr>\n",
       "    <tr>\n",
       "      <th>2</th>\n",
       "      <td>5</td>\n",
       "      <td>Sechura</td>\n",
       "      <td>PE</td>\n",
       "      <td>78.94</td>\n",
       "      <td>clear sky</td>\n",
       "      <td>-5.5569</td>\n",
       "      <td>-80.8222</td>\n",
       "      <td>Hotel Amanecer - Sechura</td>\n",
       "    </tr>\n",
       "    <tr>\n",
       "      <th>139</th>\n",
       "      <td>496</td>\n",
       "      <td>Chicama</td>\n",
       "      <td>PE</td>\n",
       "      <td>75.85</td>\n",
       "      <td>broken clouds</td>\n",
       "      <td>-7.8447</td>\n",
       "      <td>-79.1469</td>\n",
       "      <td>Bungalow Las Estrellas</td>\n",
       "    </tr>\n",
       "    <tr>\n",
       "      <th>81</th>\n",
       "      <td>287</td>\n",
       "      <td>Huarmey</td>\n",
       "      <td>PE</td>\n",
       "      <td>73.63</td>\n",
       "      <td>overcast clouds</td>\n",
       "      <td>-10.0681</td>\n",
       "      <td>-78.1522</td>\n",
       "      <td>Hostel Jaime Crazy</td>\n",
       "    </tr>\n",
       "    <tr>\n",
       "      <th>90</th>\n",
       "      <td>311</td>\n",
       "      <td>Mazamari</td>\n",
       "      <td>PE</td>\n",
       "      <td>70.90</td>\n",
       "      <td>overcast clouds</td>\n",
       "      <td>-11.3258</td>\n",
       "      <td>-74.5308</td>\n",
       "      <td>Hospedaje El Conquistador</td>\n",
       "    </tr>\n",
       "  </tbody>\n",
       "</table>\n",
       "</div>"
      ],
      "text/plain": [
       "     City_ID      City Country  Max Temp  Current Weather      Lat      Lng  \\\n",
       "2          5   Sechura      PE     78.94        clear sky  -5.5569 -80.8222   \n",
       "2          5   Sechura      PE     78.94        clear sky  -5.5569 -80.8222   \n",
       "139      496   Chicama      PE     75.85    broken clouds  -7.8447 -79.1469   \n",
       "81       287   Huarmey      PE     73.63  overcast clouds -10.0681 -78.1522   \n",
       "90       311  Mazamari      PE     70.90  overcast clouds -11.3258 -74.5308   \n",
       "\n",
       "                    Hotel Name  \n",
       "2     Hotel Amanecer - Sechura  \n",
       "2     Hotel Amanecer - Sechura  \n",
       "139     Bungalow Las Estrellas  \n",
       "81          Hostel Jaime Crazy  \n",
       "90   Hospedaje El Conquistador  "
      ]
     },
     "execution_count": 72,
     "metadata": {},
     "output_type": "execute_result"
    }
   ],
   "source": [
    "# From the map above pick 4 cities and create a vacation itinerary route to travel between the four cities. \n",
    "# 5. Create DataFrames for each city by filtering the 'vacation_df' using the loc method. \n",
    "# Hint: The starting and ending city should be the same city.\n",
    "\n",
    "vacation_start = vacation_df.loc[(vacation_df[\"City\"]== \"Sechura\")]\n",
    "vacation_end = vacation_df.loc[(vacation_df[\"City\"]== \"Sechura\")]\n",
    "vacation_stop1 = vacation_df.loc[(vacation_df[\"City\"]== \"Chicama\")]\n",
    "vacation_stop2 = vacation_df.loc[(vacation_df[\"City\"]== \"Huarmey\")]\n",
    "vacation_stop3 = vacation_df.loc[(vacation_df[\"City\"]== \"Mazamari\")]\n",
    "\n",
    "frames = [vacation_start, vacation_end, vacation_stop1, vacation_stop2, vacation_stop3]\n",
    "result = pd.concat(frames)\n",
    "result"
   ]
  },
  {
   "cell_type": "code",
   "execution_count": 73,
   "metadata": {},
   "outputs": [
    {
     "data": {
      "text/html": [
       "<div>\n",
       "<style scoped>\n",
       "    .dataframe tbody tr th:only-of-type {\n",
       "        vertical-align: middle;\n",
       "    }\n",
       "\n",
       "    .dataframe tbody tr th {\n",
       "        vertical-align: top;\n",
       "    }\n",
       "\n",
       "    .dataframe thead th {\n",
       "        text-align: right;\n",
       "    }\n",
       "</style>\n",
       "<table border=\"1\" class=\"dataframe\">\n",
       "  <thead>\n",
       "    <tr style=\"text-align: right;\">\n",
       "      <th></th>\n",
       "      <th>City_ID</th>\n",
       "      <th>City</th>\n",
       "      <th>Country</th>\n",
       "      <th>Max Temp</th>\n",
       "      <th>Current Weather</th>\n",
       "      <th>Lat</th>\n",
       "      <th>Lng</th>\n",
       "      <th>Hotel Name</th>\n",
       "    </tr>\n",
       "  </thead>\n",
       "  <tbody>\n",
       "    <tr>\n",
       "      <th>2</th>\n",
       "      <td>5</td>\n",
       "      <td>Sechura</td>\n",
       "      <td>PE</td>\n",
       "      <td>78.94</td>\n",
       "      <td>clear sky</td>\n",
       "      <td>-5.5569</td>\n",
       "      <td>-80.8222</td>\n",
       "      <td>Hotel Amanecer - Sechura</td>\n",
       "    </tr>\n",
       "  </tbody>\n",
       "</table>\n",
       "</div>"
      ],
      "text/plain": [
       "   City_ID     City Country  Max Temp Current Weather     Lat      Lng  \\\n",
       "2        5  Sechura      PE     78.94       clear sky -5.5569 -80.8222   \n",
       "\n",
       "                 Hotel Name  \n",
       "2  Hotel Amanecer - Sechura  "
      ]
     },
     "execution_count": 73,
     "metadata": {},
     "output_type": "execute_result"
    }
   ],
   "source": [
    "vacation_start = vacation_df.loc[(vacation_df[\"City\"]== \"Sechura\")]\n",
    "vacation_start\n"
   ]
  },
  {
   "cell_type": "code",
   "execution_count": 74,
   "metadata": {},
   "outputs": [
    {
     "data": {
      "text/html": [
       "<div>\n",
       "<style scoped>\n",
       "    .dataframe tbody tr th:only-of-type {\n",
       "        vertical-align: middle;\n",
       "    }\n",
       "\n",
       "    .dataframe tbody tr th {\n",
       "        vertical-align: top;\n",
       "    }\n",
       "\n",
       "    .dataframe thead th {\n",
       "        text-align: right;\n",
       "    }\n",
       "</style>\n",
       "<table border=\"1\" class=\"dataframe\">\n",
       "  <thead>\n",
       "    <tr style=\"text-align: right;\">\n",
       "      <th></th>\n",
       "      <th>City_ID</th>\n",
       "      <th>City</th>\n",
       "      <th>Country</th>\n",
       "      <th>Max Temp</th>\n",
       "      <th>Current Weather</th>\n",
       "      <th>Lat</th>\n",
       "      <th>Lng</th>\n",
       "      <th>Hotel Name</th>\n",
       "    </tr>\n",
       "  </thead>\n",
       "  <tbody>\n",
       "    <tr>\n",
       "      <th>139</th>\n",
       "      <td>496</td>\n",
       "      <td>Chicama</td>\n",
       "      <td>PE</td>\n",
       "      <td>75.85</td>\n",
       "      <td>broken clouds</td>\n",
       "      <td>-7.8447</td>\n",
       "      <td>-79.1469</td>\n",
       "      <td>Bungalow Las Estrellas</td>\n",
       "    </tr>\n",
       "  </tbody>\n",
       "</table>\n",
       "</div>"
      ],
      "text/plain": [
       "     City_ID     City Country  Max Temp Current Weather     Lat      Lng  \\\n",
       "139      496  Chicama      PE     75.85   broken clouds -7.8447 -79.1469   \n",
       "\n",
       "                 Hotel Name  \n",
       "139  Bungalow Las Estrellas  "
      ]
     },
     "execution_count": 74,
     "metadata": {},
     "output_type": "execute_result"
    }
   ],
   "source": [
    "vacation_stop1 = vacation_df.loc[(vacation_df[\"City\"]== \"Chicama\")]\n",
    "vacation_stop1"
   ]
  },
  {
   "cell_type": "code",
   "execution_count": 75,
   "metadata": {},
   "outputs": [
    {
     "data": {
      "text/html": [
       "<div>\n",
       "<style scoped>\n",
       "    .dataframe tbody tr th:only-of-type {\n",
       "        vertical-align: middle;\n",
       "    }\n",
       "\n",
       "    .dataframe tbody tr th {\n",
       "        vertical-align: top;\n",
       "    }\n",
       "\n",
       "    .dataframe thead th {\n",
       "        text-align: right;\n",
       "    }\n",
       "</style>\n",
       "<table border=\"1\" class=\"dataframe\">\n",
       "  <thead>\n",
       "    <tr style=\"text-align: right;\">\n",
       "      <th></th>\n",
       "      <th>City_ID</th>\n",
       "      <th>City</th>\n",
       "      <th>Country</th>\n",
       "      <th>Max Temp</th>\n",
       "      <th>Current Weather</th>\n",
       "      <th>Lat</th>\n",
       "      <th>Lng</th>\n",
       "      <th>Hotel Name</th>\n",
       "    </tr>\n",
       "  </thead>\n",
       "  <tbody>\n",
       "    <tr>\n",
       "      <th>81</th>\n",
       "      <td>287</td>\n",
       "      <td>Huarmey</td>\n",
       "      <td>PE</td>\n",
       "      <td>73.63</td>\n",
       "      <td>overcast clouds</td>\n",
       "      <td>-10.0681</td>\n",
       "      <td>-78.1522</td>\n",
       "      <td>Hostel Jaime Crazy</td>\n",
       "    </tr>\n",
       "  </tbody>\n",
       "</table>\n",
       "</div>"
      ],
      "text/plain": [
       "    City_ID     City Country  Max Temp  Current Weather      Lat      Lng  \\\n",
       "81      287  Huarmey      PE     73.63  overcast clouds -10.0681 -78.1522   \n",
       "\n",
       "            Hotel Name  \n",
       "81  Hostel Jaime Crazy  "
      ]
     },
     "execution_count": 75,
     "metadata": {},
     "output_type": "execute_result"
    }
   ],
   "source": [
    "vacation_stop2 = vacation_df.loc[(vacation_df[\"City\"]== \"Huarmey\")]\n",
    "vacation_stop2"
   ]
  },
  {
   "cell_type": "code",
   "execution_count": 76,
   "metadata": {},
   "outputs": [
    {
     "data": {
      "text/html": [
       "<div>\n",
       "<style scoped>\n",
       "    .dataframe tbody tr th:only-of-type {\n",
       "        vertical-align: middle;\n",
       "    }\n",
       "\n",
       "    .dataframe tbody tr th {\n",
       "        vertical-align: top;\n",
       "    }\n",
       "\n",
       "    .dataframe thead th {\n",
       "        text-align: right;\n",
       "    }\n",
       "</style>\n",
       "<table border=\"1\" class=\"dataframe\">\n",
       "  <thead>\n",
       "    <tr style=\"text-align: right;\">\n",
       "      <th></th>\n",
       "      <th>City_ID</th>\n",
       "      <th>City</th>\n",
       "      <th>Country</th>\n",
       "      <th>Max Temp</th>\n",
       "      <th>Current Weather</th>\n",
       "      <th>Lat</th>\n",
       "      <th>Lng</th>\n",
       "      <th>Hotel Name</th>\n",
       "    </tr>\n",
       "  </thead>\n",
       "  <tbody>\n",
       "    <tr>\n",
       "      <th>90</th>\n",
       "      <td>311</td>\n",
       "      <td>Mazamari</td>\n",
       "      <td>PE</td>\n",
       "      <td>70.9</td>\n",
       "      <td>overcast clouds</td>\n",
       "      <td>-11.3258</td>\n",
       "      <td>-74.5308</td>\n",
       "      <td>Hospedaje El Conquistador</td>\n",
       "    </tr>\n",
       "  </tbody>\n",
       "</table>\n",
       "</div>"
      ],
      "text/plain": [
       "    City_ID      City Country  Max Temp  Current Weather      Lat      Lng  \\\n",
       "90      311  Mazamari      PE      70.9  overcast clouds -11.3258 -74.5308   \n",
       "\n",
       "                   Hotel Name  \n",
       "90  Hospedaje El Conquistador  "
      ]
     },
     "execution_count": 76,
     "metadata": {},
     "output_type": "execute_result"
    }
   ],
   "source": [
    "vacation_stop3 = vacation_df.loc[(vacation_df[\"City\"]== \"Mazamari\")]\n",
    "vacation_stop3"
   ]
  },
  {
   "cell_type": "code",
   "execution_count": 77,
   "metadata": {},
   "outputs": [],
   "source": [
    "# 6. Get the latitude-longitude pairs as tuples from each city DataFrame using the to_numpy function and list indexing.\n",
    "lat = result[\"Lat\"].to_numpy()\n",
    "lng = result[\"Lng\"].to_numpy()\n",
    "lat_lng_tuple = zip(lat, lng)\n",
    "coordinates = list(lat_lng_tuple)\n",
    "\n",
    "start = coordinates[0]\n",
    "end = coordinates[0]\n",
    "stop1 = coordinates[1]\n",
    "stop2 = coordinates[2]\n",
    "stop3 = coordinates[3]"
   ]
  },
  {
   "cell_type": "code",
   "execution_count": 78,
   "metadata": {},
   "outputs": [
    {
     "data": {
      "text/plain": [
       "[(-5.5569, -80.8222),\n",
       " (-5.5569, -80.8222),\n",
       " (-7.8447, -79.1469),\n",
       " (-10.0681, -78.1522),\n",
       " (-11.3258, -74.5308)]"
      ]
     },
     "execution_count": 78,
     "metadata": {},
     "output_type": "execute_result"
    }
   ],
   "source": [
    "coordinates "
   ]
  },
  {
   "cell_type": "code",
   "execution_count": 107,
   "metadata": {
    "scrolled": true
   },
   "outputs": [
    {
     "data": {
      "application/vnd.jupyter.widget-view+json": {
       "model_id": "b952f1486e144d6a810287832476537f",
       "version_major": 2,
       "version_minor": 0
      },
      "text/plain": [
       "Figure(layout=FigureLayout(height='420px'))"
      ]
     },
     "metadata": {},
     "output_type": "display_data"
    }
   ],
   "source": [
    "# 7. Create a direction layer map using the start and end latitude-longitude pairs,\n",
    "# and stop1, stop2, and stop3 as the waypoints. The travel_mode should be \"DRIVING\", \"BICYCLING\", or \"WALKING\".\n",
    "import gmaps\n",
    "import gmaps.datasets\n",
    "gmaps.configure(api_key=g_key)\n",
    "\n",
    "# Latitude-longitude pairs\n",
    "Sechura = (-5.5569, -80.8222)\n",
    "Sechura = (-5.5569, -80.8222)\n",
    "Chicama = (-7.8447, -79.1469)\n",
    "Huarmey = (-10.0681, -78.1522)\n",
    "Mazamari = (-11.3258, -74.5308)\n",
    "\n",
    "fig = gmaps.figure()\n",
    "west_trip_map = gmaps.directions_layer(Sechura, Sechura,\n",
    "                                       waypoints=[Chicama, Huarmey, Mazamari],\n",
    "                                      travel_mode = \"DRIVING\" or \"BICYCLING\" or \"WALKING\")\n",
    "fig.add_layer(west_trip_map)\n",
    "fig\n"
   ]
  },
  {
   "cell_type": "code",
   "execution_count": 92,
   "metadata": {},
   "outputs": [
    {
     "data": {
      "text/html": [
       "<div>\n",
       "<style scoped>\n",
       "    .dataframe tbody tr th:only-of-type {\n",
       "        vertical-align: middle;\n",
       "    }\n",
       "\n",
       "    .dataframe tbody tr th {\n",
       "        vertical-align: top;\n",
       "    }\n",
       "\n",
       "    .dataframe thead th {\n",
       "        text-align: right;\n",
       "    }\n",
       "</style>\n",
       "<table border=\"1\" class=\"dataframe\">\n",
       "  <thead>\n",
       "    <tr style=\"text-align: right;\">\n",
       "      <th></th>\n",
       "      <th>City_ID</th>\n",
       "      <th>City</th>\n",
       "      <th>Country</th>\n",
       "      <th>Max Temp</th>\n",
       "      <th>Current Weather</th>\n",
       "      <th>Lat</th>\n",
       "      <th>Lng</th>\n",
       "      <th>Hotel Name</th>\n",
       "    </tr>\n",
       "  </thead>\n",
       "  <tbody>\n",
       "    <tr>\n",
       "      <th>2</th>\n",
       "      <td>5</td>\n",
       "      <td>Sechura</td>\n",
       "      <td>PE</td>\n",
       "      <td>78.94</td>\n",
       "      <td>clear sky</td>\n",
       "      <td>-5.5569</td>\n",
       "      <td>-80.8222</td>\n",
       "      <td>Hotel Amanecer - Sechura</td>\n",
       "    </tr>\n",
       "    <tr>\n",
       "      <th>2</th>\n",
       "      <td>5</td>\n",
       "      <td>Sechura</td>\n",
       "      <td>PE</td>\n",
       "      <td>78.94</td>\n",
       "      <td>clear sky</td>\n",
       "      <td>-5.5569</td>\n",
       "      <td>-80.8222</td>\n",
       "      <td>Hotel Amanecer - Sechura</td>\n",
       "    </tr>\n",
       "    <tr>\n",
       "      <th>139</th>\n",
       "      <td>496</td>\n",
       "      <td>Chicama</td>\n",
       "      <td>PE</td>\n",
       "      <td>75.85</td>\n",
       "      <td>broken clouds</td>\n",
       "      <td>-7.8447</td>\n",
       "      <td>-79.1469</td>\n",
       "      <td>Bungalow Las Estrellas</td>\n",
       "    </tr>\n",
       "    <tr>\n",
       "      <th>81</th>\n",
       "      <td>287</td>\n",
       "      <td>Huarmey</td>\n",
       "      <td>PE</td>\n",
       "      <td>73.63</td>\n",
       "      <td>overcast clouds</td>\n",
       "      <td>-10.0681</td>\n",
       "      <td>-78.1522</td>\n",
       "      <td>Hostel Jaime Crazy</td>\n",
       "    </tr>\n",
       "    <tr>\n",
       "      <th>90</th>\n",
       "      <td>311</td>\n",
       "      <td>Mazamari</td>\n",
       "      <td>PE</td>\n",
       "      <td>70.90</td>\n",
       "      <td>overcast clouds</td>\n",
       "      <td>-11.3258</td>\n",
       "      <td>-74.5308</td>\n",
       "      <td>Hospedaje El Conquistador</td>\n",
       "    </tr>\n",
       "  </tbody>\n",
       "</table>\n",
       "</div>"
      ],
      "text/plain": [
       "     City_ID      City Country  Max Temp  Current Weather      Lat      Lng  \\\n",
       "2          5   Sechura      PE     78.94        clear sky  -5.5569 -80.8222   \n",
       "2          5   Sechura      PE     78.94        clear sky  -5.5569 -80.8222   \n",
       "139      496   Chicama      PE     75.85    broken clouds  -7.8447 -79.1469   \n",
       "81       287   Huarmey      PE     73.63  overcast clouds -10.0681 -78.1522   \n",
       "90       311  Mazamari      PE     70.90  overcast clouds -11.3258 -74.5308   \n",
       "\n",
       "                    Hotel Name  \n",
       "2     Hotel Amanecer - Sechura  \n",
       "2     Hotel Amanecer - Sechura  \n",
       "139     Bungalow Las Estrellas  \n",
       "81          Hostel Jaime Crazy  \n",
       "90   Hospedaje El Conquistador  "
      ]
     },
     "execution_count": 92,
     "metadata": {},
     "output_type": "execute_result"
    }
   ],
   "source": [
    "# 8. To create a marker layer map between the four cities.\n",
    "#  Combine the four city DataFrames into one DataFrame using the concat() function.\n",
    "itinerary_df = result\n",
    "itinerary_df"
   ]
  },
  {
   "cell_type": "code",
   "execution_count": 109,
   "metadata": {},
   "outputs": [],
   "source": [
    "# 9 Using the template add city name, the country code, the weather description and maximum temperature for the city. \n",
    "info_box_template = \"\"\"\n",
    "<dl>\n",
    "<dt>Hotel Name</dt><dd>{Hotel Name}</dd>\n",
    "<dt>City</dt><dd>{City}</dd>\n",
    "<dt>Country</dt><dd>{Country}</dd>\n",
    "<dt>Current Weather</dt><dd>{Current Weather}</dd>\n",
    "<dt>Max Temp</dt><dd>{Max Temp} °F</dd>\n",
    "</dl>\n",
    "\n",
    "\"\"\"\n",
    "\n",
    "# 10a Get the data from each row and add it to the formatting template and store the data in a list.\n",
    "hotel_info = [info_box_template.format(**row) for index, row in itinerary_df.iterrows()]\n",
    "\n",
    "# 10b. Get the latitude and longitude from each row and store in a new DataFrame.\n",
    "locations = itinerary_df[[\"Lat\", \"Lng\"]]"
   ]
  },
  {
   "cell_type": "code",
   "execution_count": 110,
   "metadata": {
    "scrolled": true
   },
   "outputs": [
    {
     "data": {
      "application/vnd.jupyter.widget-view+json": {
       "model_id": "8e51ebc40dc04648b56fd47a6e4ea3b3",
       "version_major": 2,
       "version_minor": 0
      },
      "text/plain": [
       "Figure(layout=FigureLayout(height='420px'))"
      ]
     },
     "metadata": {},
     "output_type": "display_data"
    }
   ],
   "source": [
    "# 11a. Add a marker layer for each city to the map.\n",
    "\n",
    "fig = gmaps.figure(center=(30.0, 31.0), zoom_level=1.5)\n",
    "\n",
    "marker_layer = gmaps.marker_layer(locations, info_box_content=hotel_info)\n",
    "fig.add_layer(marker_layer)\n",
    "\n",
    "# 11b. Display the figure\n",
    "\n",
    "fig\n",
    "\n",
    "\n"
   ]
  },
  {
   "cell_type": "code",
   "execution_count": null,
   "metadata": {},
   "outputs": [],
   "source": []
  }
 ],
 "metadata": {
  "kernelspec": {
   "display_name": "PythonData",
   "language": "python",
   "name": "pythondata"
  },
  "language_info": {
   "codemirror_mode": {
    "name": "ipython",
    "version": 3
   },
   "file_extension": ".py",
   "mimetype": "text/x-python",
   "name": "python",
   "nbconvert_exporter": "python",
   "pygments_lexer": "ipython3",
   "version": "3.7.9"
  },
  "latex_envs": {
   "LaTeX_envs_menu_present": true,
   "autoclose": false,
   "autocomplete": true,
   "bibliofile": "biblio.bib",
   "cite_by": "apalike",
   "current_citInitial": 1,
   "eqLabelWithNumbers": true,
   "eqNumInitial": 1,
   "hotkeys": {
    "equation": "Ctrl-E",
    "itemize": "Ctrl-I"
   },
   "labels_anchors": false,
   "latex_user_defs": false,
   "report_style_numbering": false,
   "user_envs_cfg": false
  }
 },
 "nbformat": 4,
 "nbformat_minor": 2
}
